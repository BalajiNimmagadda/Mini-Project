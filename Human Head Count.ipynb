{
 "cells": [
  {
   "cell_type": "code",
   "execution_count": null,
   "id": "42d46611",
   "metadata": {},
   "outputs": [],
   "source": []
  },
  {
   "cell_type": "code",
   "execution_count": null,
   "id": "a7380ac8",
   "metadata": {},
   "outputs": [],
   "source": []
  },
  {
   "cell_type": "code",
   "execution_count": null,
   "id": "2c4e8cad",
   "metadata": {},
   "outputs": [],
   "source": []
  },
  {
   "cell_type": "code",
   "execution_count": null,
   "id": "42e713bd",
   "metadata": {},
   "outputs": [],
   "source": []
  },
  {
   "cell_type": "code",
   "execution_count": null,
   "id": "2e6edbee",
   "metadata": {},
   "outputs": [],
   "source": []
  },
  {
   "cell_type": "code",
   "execution_count": null,
   "id": "01db435a",
   "metadata": {},
   "outputs": [],
   "source": []
  },
  {
   "cell_type": "code",
   "execution_count": null,
   "id": "c1d2de17",
   "metadata": {},
   "outputs": [],
   "source": []
  },
  {
   "cell_type": "code",
   "execution_count": 1,
   "id": "8f98baf2",
   "metadata": {},
   "outputs": [],
   "source": [
    "from tkinter import *\n",
    "import tkinter\n",
    "from tkinter import filedialog\n",
    "from tkinter.filedialog import askopenfilename"
   ]
  },
  {
   "cell_type": "code",
   "execution_count": 2,
   "id": "aac50681",
   "metadata": {},
   "outputs": [],
   "source": [
    "from PIL import Image\n",
    "import torch\n",
    "import torchvision.transforms as T\n",
    "import torchvision\n",
    "import torch\n",
    "import numpy as np\n",
    "import cv2\n",
    "import os"
   ]
  },
  {
   "cell_type": "code",
   "execution_count": 3,
   "id": "dfa89ec6",
   "metadata": {},
   "outputs": [
    {
     "data": {
      "text/plain": [
       "''"
      ]
     },
     "execution_count": 3,
     "metadata": {},
     "output_type": "execute_result"
    }
   ],
   "source": [
    "main = tkinter.Tk()\n",
    "main.title(\"People Counting System Based on Head Detection using Faster R-CNN\")\n",
    "main.geometry(\"1200x1200\")"
   ]
  },
  {
   "cell_type": "code",
   "execution_count": null,
   "id": "ba999a2c",
   "metadata": {},
   "outputs": [],
   "source": [
    "model = torchvision.models.detection.fasterrcnn_resnet50_fpn(pretrained=True)\n",
    "model.eval()"
   ]
  },
  {
   "cell_type": "code",
   "execution_count": 5,
   "id": "709d3a05",
   "metadata": {},
   "outputs": [],
   "source": [
    "def get_prediction(img_path, threshold):\n",
    "  img = Image.open(img_path)\n",
    "  transform = T.Compose([T.ToTensor()])\n",
    "  img = transform(img)\n",
    "  pred = model([img])\n",
    "  pred_class = []\n",
    "  for i in list(pred[0]['labels'].numpy()):\n",
    "      pred_class.append(i)\n",
    "  pred_boxes = [[(i[0], i[1]), (i[2], i[3])] for i in list(pred[0]['boxes'].detach().numpy())]\n",
    "  pred_score = list(pred[0]['scores'].detach().numpy())\n",
    "  pred_t = [pred_score.index(x) for x in pred_score if x>threshold][-1]\n",
    "  pred_boxes = pred_boxes[:pred_t+1]\n",
    "  pred_class = pred_class[:pred_t+1]\n",
    "  head_count = 0\n",
    "  for i in range(len(pred_class)):\n",
    "      if pred_class[i] == 1:\n",
    "          head_count += 1\n",
    "  return head_count"
   ]
  },
  {
   "cell_type": "code",
   "execution_count": 6,
   "id": "9ab7e17f",
   "metadata": {},
   "outputs": [],
   "source": [
    "def countFromImages():\n",
    "    global filename\n",
    "    count = 0\n",
    "    filename = filedialog.askopenfilename(initialdir=\"testImages\")\n",
    "    text.insert(END,str(filename)+\" loaded\\n\")\n",
    "    pathlabel.config(text=str(filename)+\" loaded\")\n",
    "    head_count = get_prediction(filename, 0.8)\n",
    "    img = cv2.imread(filename)\n",
    "    img = cv2.cvtColor(img, cv2.COLOR_BGR2RGB)\n",
    "    cv2.putText(img,\"Total Head: \"+str(head_count), (10,50), cv2.FONT_HERSHEY_SIMPLEX, 0.7, (0,255,0),thickness=2)\n",
    "    cv2.imshow(\"output\",img)\n",
    "    cv2.waitKey(0)\n"
   ]
  },
  {
   "cell_type": "code",
   "execution_count": 8,
   "id": "6ff0c778",
   "metadata": {},
   "outputs": [],
   "source": [
    "def countFromVideo():\n",
    "    global filename\n",
    "    global frcnn\n",
    "    filename = filedialog.askopenfilename(initialdir=\"testVideos\")\n",
    "    text.insert(END,str(filename)+\" loaded\\n\")\n",
    "    pathlabel.config(text=str(filename)+\" loaded\")\n",
    "    video = cv2.VideoCapture(filename)\n",
    "    while(True):\n",
    "        ret, frame = video.read()\n",
    "        print(ret)\n",
    "        if ret == True:\n",
    "            cv2.imwrite(\"test.jpg\",frame)\n",
    "            head_count = get_prediction(\"test.jpg\", 0.8)\n",
    "            cv2.putText(frame,\"Total Head: \"+str(head_count), (10,50), cv2.FONT_HERSHEY_SIMPLEX, 0.7, (0,255,0),thickness=2)\n",
    "            cv2.imshow(\"output\",frame)\n",
    "            if cv2.waitKey(50) & 0xFF == ord('q'):\n",
    "                break    \n",
    "        else:\n",
    "            break\n",
    "    video.release()\n",
    "    cv2.destroyAllWindows()\n"
   ]
  },
  {
   "cell_type": "code",
   "execution_count": 9,
   "id": "3dfd7711",
   "metadata": {},
   "outputs": [],
   "source": [
    "font = ('times', 14, 'bold')\n",
    "title = Label(main, text='People Counting System Based on Head Detection using Faster R-CNN')\n",
    "title.config(bg='DarkGoldenrod1', fg='black')  \n",
    "title.config(font=font)           \n",
    "title.config(height=3, width=120)       \n",
    "title.place(x=5,y=5)"
   ]
  },
  {
   "cell_type": "code",
   "execution_count": 10,
   "id": "ccdef001",
   "metadata": {},
   "outputs": [],
   "source": [
    "font1 = ('times', 13, 'bold')\n",
    "imageButton = Button(main, text=\"People Counting from Images\", command=countFromImages)\n",
    "imageButton.place(x=50,y=100)\n",
    "imageButton.config(font=font1)  "
   ]
  },
  {
   "cell_type": "code",
   "execution_count": 11,
   "id": "3b3a8fe7",
   "metadata": {},
   "outputs": [],
   "source": [
    "pathlabel = Label(main)\n",
    "pathlabel.config(bg='brown', fg='white')  \n",
    "pathlabel.config(font=font1)           \n",
    "pathlabel.place(x=480,y=100)"
   ]
  },
  {
   "cell_type": "code",
   "execution_count": 12,
   "id": "617a03a7",
   "metadata": {},
   "outputs": [],
   "source": [
    "videoButton = Button(main, text=\"People Counting from Video\", command=countFromVideo)\n",
    "videoButton.place(x=50,y=150)\n",
    "videoButton.config(font=font1)"
   ]
  },
  {
   "cell_type": "code",
   "execution_count": 13,
   "id": "ef6f9699",
   "metadata": {},
   "outputs": [],
   "source": [
    "font1 = ('times', 12, 'bold')\n",
    "text=Text(main,height=10,width=150)\n",
    "scroll=Scrollbar(text)\n",
    "text.configure(yscrollcommand=scroll.set)\n",
    "text.place(x=10,y=400)\n",
    "text.config(font=font1)"
   ]
  },
  {
   "cell_type": "code",
   "execution_count": null,
   "id": "0c9bd2b9",
   "metadata": {},
   "outputs": [],
   "source": [
    "main.config(bg='LightSteelBlue1')\n",
    "main.mainloop()"
   ]
  },
  {
   "cell_type": "code",
   "execution_count": null,
   "id": "3085f3f5",
   "metadata": {},
   "outputs": [],
   "source": []
  }
 ],
 "metadata": {
  "kernelspec": {
   "display_name": "Python 3 (ipykernel)",
   "language": "python",
   "name": "python3"
  },
  "language_info": {
   "codemirror_mode": {
    "name": "ipython",
    "version": 3
   },
   "file_extension": ".py",
   "mimetype": "text/x-python",
   "name": "python",
   "nbconvert_exporter": "python",
   "pygments_lexer": "ipython3",
   "version": "3.10.9"
  }
 },
 "nbformat": 4,
 "nbformat_minor": 5
}
